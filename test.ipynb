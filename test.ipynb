{
  "nbformat": 4,
  "nbformat_minor": 0,
  "metadata": {
    "colab": {
      "provenance": [],
      "authorship_tag": "ABX9TyNczUoIRAtnmaXRMHKkrHsn",
      "include_colab_link": true
    },
    "kernelspec": {
      "name": "python3",
      "display_name": "Python 3"
    },
    "language_info": {
      "name": "python"
    }
  },
  "cells": [
    {
      "cell_type": "markdown",
      "metadata": {
        "id": "view-in-github",
        "colab_type": "text"
      },
      "source": [
        "<a href=\"https://colab.research.google.com/github/pjione/pythonbasic/blob/main/test.ipynb\" target=\"_parent\"><img src=\"https://colab.research.google.com/assets/colab-badge.svg\" alt=\"Open In Colab\"/></a>"
      ]
    },
    {
      "cell_type": "code",
      "execution_count": null,
      "metadata": {
        "colab": {
          "base_uri": "https://localhost:8080/"
        },
        "id": "la0YF0Qik7vN",
        "outputId": "e2d3640e-8d98-424a-9e37-896ca99aa84a"
      },
      "outputs": [
        {
          "output_type": "stream",
          "name": "stdout",
          "text": [
            "code\n"
          ]
        }
      ],
      "source": [
        "print(\"code\")"
      ]
    },
    {
      "cell_type": "code",
      "source": [
        "# 인덱싱과 슬라이싱 indexing & slicing\n",
        "# 참고로 인덱싱과 슬라이싱은 리스트와 튜플에서도 완전히 동일하게 사용된다. \n",
        "\n",
        "# 인덱싱 - 한 개의 글자 추출\n",
        "a = 'I love You'\n",
        "print(a[0])\n",
        "print(a[9])\n",
        "print(a[-1])  # 마지막 글자 추출은 -1 을 사용한다. \n",
        "print(a[-3])\n",
        "\n",
        "# 슬라이싱 - 여러개의 글자 추출\n",
        "a = 'I love you'\n",
        "print(a[2] + a[3] + a[4] + a[5])\n",
        "print(a[2:6]) # 끝자리를 나타내는 수는 미만을 의미한다. \n",
        "print(a[7:])  # 끝자리를 생략하면 끝까지 출력한다. \n",
        "print(a[:2])  # 시작 자리를 생략하면 처음 즉 0 부터 시작한다. \n",
        "print(a[:])   # 모든 자리 생략하면 처음 부터 끝까지 출력한다. \n",
        "print(a[7:-1])# 슬라이싱에서도 - 표기를 사용한다. 역시 미만으로 사용된다. "
      ],
      "metadata": {
        "colab": {
          "base_uri": "https://localhost:8080/"
        },
        "id": "KlP7mSV67rYo",
        "outputId": "bbca6622-c404-4fae-85a6-44f13bc3de4b"
      },
      "execution_count": null,
      "outputs": [
        {
          "output_type": "stream",
          "name": "stdout",
          "text": [
            "I\n",
            "u\n",
            "u\n",
            "Y\n",
            "love\n",
            "love\n",
            "you\n",
            "I \n",
            "I love you\n",
            "yo\n"
          ]
        }
      ]
    },
    {
      "cell_type": "code",
      "source": [
        "# 파이썬에서 출력 방법 총 4가지\n",
        "\n",
        "# 1 문자열 포맷팅 (중요도 하)\n",
        "\n",
        "print(\"I %s you\" % \"love\")\n",
        "print(\"I ate %d apples\" % 5)\n",
        "print(\"I ate %s apples\" % 5)\n",
        "\n",
        "print(\"I %s you, I ate %s apples\" % (\"love\", 5))\n",
        "\n",
        "# 2 format() 포맷 함수 (중요도 하)\n",
        "\n",
        "print(\"I {} you\".format(\"love\"))\n",
        "print(\"I ate {} apples\".format(5))\n",
        "print(\"I ate {} apples\".format(5))\n",
        "\n",
        "print(\"I {} you, I ate {} apples\".format(\"love\", 5))"
      ],
      "metadata": {
        "colab": {
          "base_uri": "https://localhost:8080/"
        },
        "id": "0J9wU30sB32E",
        "outputId": "a381e4d9-f376-447e-8146-816a83253556"
      },
      "execution_count": 4,
      "outputs": [
        {
          "output_type": "stream",
          "name": "stdout",
          "text": [
            "I love you\n",
            "I ate 5 apples\n",
            "I ate 5 apples\n",
            "I love you, I ate 5 apples\n",
            "I love you\n",
            "I ate 5 apples\n",
            "I ate 5 apples\n",
            "I love you, I ate 5 apples\n"
          ]
        }
      ]
    },
    {
      "cell_type": "code",
      "source": [
        "# 3 f스트링 (중요도 상)\n",
        "\n",
        "a = \"love\"\n",
        "b = 5\n",
        "\n",
        "print(f\"I {a} you\")\n",
        "print(f\"I ate {b} apples\")\n",
        "print(f\"I ate {b} apples\")\n",
        "\n",
        "print(f\"I {a} you, I ate {b} apples\")\n",
        "\n"
      ],
      "metadata": {
        "colab": {
          "base_uri": "https://localhost:8080/"
        },
        "id": "PwW0zhGJB7Hz",
        "outputId": "89868362-19ac-4e97-cc5e-e557808e4dcc"
      },
      "execution_count": 5,
      "outputs": [
        {
          "output_type": "stream",
          "name": "stdout",
          "text": [
            "I love you\n",
            "I ate 5 apples\n",
            "I ate 5 apples\n",
            "I love you, I ate 5 apples\n"
          ]
        }
      ]
    },
    {
      "cell_type": "code",
      "source": [
        "# 4 연산자 사용\n",
        "\n",
        "a = \"love\"\n",
        "b = 5\n",
        "\n",
        "print(\"I \" + a + \" you\")\n",
        "print(\"I ate\" , b , \"apples\")\n",
        "print(\"I ate\" , b , \"apples\")\n",
        "print(\"I \" + a + \" you, I ate\" , b , \"apples\")\n",
        "print(\"I\" , a ,\" you\")\n",
        "print(\"I ate\" , b , \"apples\")\n",
        "print(\"I ate\" , b , \"apples\")\n",
        "print(\"I\" , a , \" you, I ate\" , b , \"apples\")\n"
      ],
      "metadata": {
        "colab": {
          "base_uri": "https://localhost:8080/"
        },
        "id": "_NKkVpcbCADk",
        "outputId": "39c7da0e-8384-466f-c098-ea672f931960"
      },
      "execution_count": 6,
      "outputs": [
        {
          "output_type": "stream",
          "name": "stdout",
          "text": [
            "I love you\n",
            "I ate 5 apples\n",
            "I ate 5 apples\n",
            "I love you, I ate 5 apples\n",
            "I love  you\n",
            "I ate 5 apples\n",
            "I ate 5 apples\n",
            "I love  you, I ate 5 apples\n"
          ]
        }
      ]
    },
    {
      "cell_type": "code",
      "source": [],
      "metadata": {
        "id": "Bmrewh7I7tYC"
      },
      "execution_count": null,
      "outputs": []
    }
  ]
}