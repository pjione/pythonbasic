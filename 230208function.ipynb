{
  "nbformat": 4,
  "nbformat_minor": 0,
  "metadata": {
    "colab": {
      "provenance": [],
      "authorship_tag": "ABX9TyPGF9p1QteSLheL6/fp1Opb",
      "include_colab_link": true
    },
    "kernelspec": {
      "name": "python3",
      "display_name": "Python 3"
    },
    "language_info": {
      "name": "python"
    }
  },
  "cells": [
    {
      "cell_type": "markdown",
      "metadata": {
        "id": "view-in-github",
        "colab_type": "text"
      },
      "source": [
        "<a href=\"https://colab.research.google.com/github/pjione/pythonbasic/blob/main/230208function.ipynb\" target=\"_parent\"><img src=\"https://colab.research.google.com/assets/colab-badge.svg\" alt=\"Open In Colab\"/></a>"
      ]
    },
    {
      "cell_type": "code",
      "execution_count": null,
      "metadata": {
        "id": "z7xfaqJNeUmy"
      },
      "outputs": [],
      "source": [
        "# 함수의 4가지 형태\n",
        "\n",
        "# 1. input값과 output값이 모두 존재하는 함수 (*****)\n",
        "# 2. input값이 없고 output값만 존재하는 함수\n",
        "# 3. input값은 있고 output값은 존재하지 않는 함수\n",
        "# 4. input값도 없고 output값도 없는 함수\n",
        "\n",
        "\n",
        "# 1. input값과 output값이 모두 존재하는 함수 (*****)\n",
        "# 함수 정의\n",
        "def add(a,b):  # input값이 있고\n",
        "  return a+b   # output값도 있다.\n",
        "\n",
        "# 함수 호출\n",
        "print(add(1,2))"
      ]
    },
    {
      "cell_type": "code",
      "source": [
        "# 2. input값이 없고 output값만 존재하는 함수\n",
        "\n",
        "def say():\n",
        "  return 'Hello World'\n",
        "\n",
        "print(say())"
      ],
      "metadata": {
        "id": "3Pa-tarjktHu"
      },
      "execution_count": null,
      "outputs": []
    },
    {
      "cell_type": "code",
      "source": [
        "# 3. input값은 있고 output값은 존재하지 않는 함수\n",
        "\n",
        "def yesinput(name):\n",
        "  print(name,'님 어서오세요')\n",
        "\n",
        "\n",
        "yesinput('홍길동')"
      ],
      "metadata": {
        "id": "dAUWmIgfkv-S"
      },
      "execution_count": null,
      "outputs": []
    },
    {
      "cell_type": "code",
      "source": [
        "# 4. input값도 없고 output값도 없는 함수\n",
        "\n",
        "def noinnoout():\n",
        "  print('환영합니다.')\n",
        "\n",
        "noinnoout()"
      ],
      "metadata": {
        "id": "wFMlncCGk0_z"
      },
      "execution_count": null,
      "outputs": []
    },
    {
      "cell_type": "code",
      "source": [
        "# 매개 변수의 수를 알수 없을때, 즉, 몇 개의 매개 변수가 들어올 지 모를때...\n",
        "# 가변 매개변수\n",
        "\n",
        "def add2(a,b):\n",
        "  return a+b\n",
        "\n",
        "def add3(a,b,c):\n",
        "  return a+b+c\n",
        "\n",
        "\n",
        "def add(*args):\n",
        "  result = 0\n",
        "  for i in args:\n",
        "    result = result + i\n",
        "  print(result)\n",
        "\n",
        "add(1,2)\n",
        "add(1,2,3)\n",
        "add(1,2,3,4,5,6,7,8)"
      ],
      "metadata": {
        "id": "46nLkO4ytUvT"
      },
      "execution_count": null,
      "outputs": []
    },
    {
      "cell_type": "code",
      "source": [
        "# 함수의 리턴값은 언제나 하나이다. \n",
        "\n",
        "\n",
        "def addmul(a,b):\n",
        "  return a+b\n",
        "  return a*b\n",
        "\n",
        "print(addmul(2,3))\n",
        "\n",
        "def addmul2(a,b):\n",
        "  return a+b, a*b\n",
        "\n",
        "addmul2(2,3)\n",
        "\n",
        "# 결과 값으로 튜플 (5, 6) 출력되었다. 2개가 아닌 튜플 1개로 출력된 것이다. "
      ],
      "metadata": {
        "id": "ccF8TVsQtdnr"
      },
      "execution_count": null,
      "outputs": []
    },
    {
      "cell_type": "code",
      "source": [
        "# 매개 변수에 미리 초기값 설정하기\n",
        "\n",
        "def aboutme(name, age, gender=True):\n",
        "  print(f'나의 이름은 {name}입니다.')\n",
        "  print(f'나이는 {age}살 입니다.')\n",
        "  if gender:\n",
        "    print(f'나의 성별은 남성입니다.')\n",
        "  else:\n",
        "    print(f'나의 설별은 여성입니다.')\n",
        "\n",
        "aboutme(\"송중기\",32, True)\n",
        "aboutme(\"송중기\",32)"
      ],
      "metadata": {
        "id": "A1ogVPkgtppn"
      },
      "execution_count": null,
      "outputs": []
    },
    {
      "cell_type": "code",
      "source": [
        "# 함수 안에서의 변수 효력 범위 (지역변수/전역변수)\n",
        "\n",
        "a = 1\n",
        "\n",
        "def vartest(a):\n",
        "  a += 1   #   2\n",
        "\n",
        "vartest(a)\n",
        "print(a)\n",
        "\n",
        "# 함수 안에서 사용하는 매개변수 a 는 함수 밖의 변수 이름 a 과는 전혀 관련이 없다. "
      ],
      "metadata": {
        "id": "rBvmnRWMuC72"
      },
      "execution_count": null,
      "outputs": []
    },
    {
      "cell_type": "code",
      "source": [
        "# Class / Object\n",
        "\n",
        "# Object Oriented Programming 객체 지향 프로그래밍\n",
        "\n",
        "# 객체 지향 프로그래밍이 필수는 아니다. 왜 C언어는 객체지향언어가 아니다. \n",
        "\n",
        "# 클래스는 붕어빵 기계 객체는 붕어빵\n",
        "# 클래스는 쿠키틀 객체는 쿠키\n",
        "\n",
        "# 인스턴스와 객체의 차이\n",
        "# 클래스로 만든 객체를 인스턴스라고도 부른다. 그럼 차이가 무엇일까...\n",
        "\n",
        "# a는 쿠키 클래스의 인스턴스이다. \n",
        "# a는 객체이다. \n",
        "\n",
        "# 인스턴스는 클래스와의 관계를 설명할때 사용되고\n",
        "# 객체는 관계 가아닌 그 자체를 설명할때 사용된다."
      ],
      "metadata": {
        "id": "NH0UL9VDwYO2"
      },
      "execution_count": null,
      "outputs": []
    },
    {
      "cell_type": "code",
      "source": [
        "class Cal:\n",
        "  pass\n",
        "a=Cal()"
      ],
      "metadata": {
        "id": "duZ9tbC8wpBJ"
      },
      "execution_count": 2,
      "outputs": []
    },
    {
      "cell_type": "code",
      "source": [
        "result = 1\n",
        "\n",
        "def add(num):\n",
        "  global result\n",
        "  result += num\n",
        "  return result\n",
        "\n",
        "print(add(3))"
      ],
      "metadata": {
        "colab": {
          "base_uri": "https://localhost:8080/"
        },
        "id": "rx8pgWda1SB6",
        "outputId": "0bdd22bb-3ff4-4361-9d4d-ea2769411615"
      },
      "execution_count": 8,
      "outputs": [
        {
          "output_type": "stream",
          "name": "stdout",
          "text": [
            "4\n"
          ]
        }
      ]
    },
    {
      "cell_type": "code",
      "source": [
        "class Cal:\n",
        "  def __init__(self):  \n",
        "    self.result = 0\n",
        "\n",
        "  def add(self, num):\n",
        "    self.result += num\n",
        "    return self.result\n",
        "\n",
        "  def sub(self, num):\n",
        "    self.result -= num\n",
        "    return self.result\n",
        "\n",
        "\n",
        "cal1 = Cal()    \n",
        "cal2 = Cal()   \n",
        "cal3 = Cal()     \n",
        "\n",
        "print(cal1.add(2))\n",
        "print(cal1.add(1))\n",
        "print(cal1.add(3))\n",
        "print()\n",
        "print(cal2.add(5))\n",
        "print(cal2.add(4))\n",
        "print(cal2.add(1))\n",
        "print()\n",
        "print(cal3.add(2))"
      ],
      "metadata": {
        "colab": {
          "base_uri": "https://localhost:8080/"
        },
        "id": "1mGUDjqs5KIQ",
        "outputId": "5bb8db12-0020-40a4-c99d-2865f6abbf2c"
      },
      "execution_count": 9,
      "outputs": [
        {
          "output_type": "stream",
          "name": "stdout",
          "text": [
            "2\n",
            "3\n",
            "6\n",
            "\n",
            "5\n",
            "9\n",
            "10\n",
            "\n",
            "2\n"
          ]
        }
      ]
    },
    {
      "cell_type": "code",
      "source": [
        "class BigCal:\n",
        "\n",
        "  def __init__(self, first, second):\n",
        "    self.first = first\n",
        "    self.second = second\n",
        "\n",
        "  # def setdata(self, first, second):  # self는 호출한 객체의 이름이 온다. \n",
        "  #   self.first = first\n",
        "  #   self.second = second\n",
        "\n",
        "  def add(self):\n",
        "    result = self.first + self.second\n",
        "    return result\n",
        "\n",
        "  def sub(self):\n",
        "    result = self.first - self.second\n",
        "    return result\n",
        "\n",
        "  def mul(self):\n",
        "    result = self.first * self.second\n",
        "    return result\n",
        "\n",
        "  def div(self):\n",
        "    result = self.first / self.second\n",
        "    return result\n",
        "\n",
        "# cal1 = BigCal()\n",
        "# cal2 = BigCal()\n",
        "\n",
        "# cal1.setdata(2,3)  # 2가 first 3이 second self는 cal1된다. \n",
        "# cal2.setdata(4,2)  # 4가 first 2가 second self는 cal2\n",
        "\n",
        "cal1 = BigCal(2,3)\n",
        "cal2 = BigCal(4,2)\n",
        "\n",
        "print(cal1.first)  # 2\n",
        "print(cal2.first)  # 4\n",
        "\n",
        "print(cal1.add())\n",
        "print(cal2.add())\n",
        "\n",
        "print(cal1.mul())\n",
        "print(cal2.mul())\n",
        "\n",
        "# 하나의 클래스로 생성된 여러개의 객체들은 각각 다른 성질을 유지한다. "
      ],
      "metadata": {
        "colab": {
          "base_uri": "https://localhost:8080/"
        },
        "id": "SeAZN8kt-B-6",
        "outputId": "45c17e61-e691-4b49-a6a4-7ffb96f0f135"
      },
      "execution_count": 10,
      "outputs": [
        {
          "output_type": "stream",
          "name": "stdout",
          "text": [
            "2\n",
            "4\n",
            "5\n",
            "6\n",
            "6\n",
            "8\n"
          ]
        }
      ]
    },
    {
      "cell_type": "code",
      "source": [
        "class BigCal:\n",
        "  def setdata(self, first, second):  # self는 호출한 객체의 이름이 온다. \n",
        "    self.first = first\n",
        "    self.second = second\n",
        "\n",
        "cal1 = BigCal()\n",
        "cal2 = BigCal()\n",
        "\n",
        "cal1.setdata(2,3)  # 2가 first 3이 second self는 cal1된다. \n",
        "cal2.setdata(4,2)  # 4가 first 2가 second self는 cal2\n",
        "\n",
        "print(cal1.first)\n",
        "print(cal2.first)"
      ],
      "metadata": {
        "id": "k7QstRR66hK0"
      },
      "execution_count": null,
      "outputs": []
    },
    {
      "cell_type": "code",
      "source": [
        "# 상속 Inheritance \n",
        "# 자바는 다중상속을 지원하지 않는 반면 파이썬은 다중상속을 지원한다."
      ],
      "metadata": {
        "id": "lgoe8TTEwpLK"
      },
      "execution_count": null,
      "outputs": []
    }
  ]
}